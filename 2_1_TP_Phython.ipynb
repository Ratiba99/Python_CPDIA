{
  "nbformat": 4,
  "nbformat_minor": 0,
  "metadata": {
    "colab": {
      "provenance": []
    },
    "kernelspec": {
      "name": "python3",
      "display_name": "Python 3"
    },
    "language_info": {
      "name": "python"
    }
  },
  "cells": [
    {
      "cell_type": "code",
      "execution_count": null,
      "metadata": {
        "id": "BS1hSZvcXduw"
      },
      "outputs": [],
      "source": []
    },
    {
      "cell_type": "markdown",
      "source": [
        "Exercice 1:\n"
      ],
      "metadata": {
        "id": "iLx157opXmDp"
      }
    },
    {
      "cell_type": "code",
      "source": [
        "chaine= \"Il fait beau aujourd'hui. Je veux en profiter.\"\n",
        "chaine= chaine.replace('.','!')\n",
        "chaine_min = chaine.casefold()\n",
        "chaine_maj=chaine.upper()\n",
        "print(chaine)\n",
        "print(chaine_min)\n",
        "print(chaine_maj)\n",
        "indice= chaine.find('b')\n",
        "print(\"l'indice du caractere b est : \",indice)"
      ],
      "metadata": {
        "colab": {
          "base_uri": "https://localhost:8080/"
        },
        "id": "MkfExG5RXpnu",
        "outputId": "04d9e46a-6080-4d50-a6a3-5e5c6a5330a4"
      },
      "execution_count": 11,
      "outputs": [
        {
          "output_type": "stream",
          "name": "stdout",
          "text": [
            "Il fait beau aujourd'hui! Je veux en profiter!\n",
            "il fait beau aujourd'hui! je veux en profiter!\n",
            "IL FAIT BEAU AUJOURD'HUI! JE VEUX EN PROFITER!\n",
            "l'indice du caractere b est :  8\n"
          ]
        }
      ]
    },
    {
      "cell_type": "markdown",
      "source": [
        "Exercice 2:"
      ],
      "metadata": {
        "id": "0ya1rMN_ajJa"
      }
    },
    {
      "cell_type": "code",
      "source": [
        "def premierMotchaine(chaine):\n",
        "  return chaine.split()[0]\n",
        "\n",
        "phrase = input(\"saisissez une phrase\")\n",
        "print(\"le premier mot est : \", premierMotchaine(phrase))\n"
      ],
      "metadata": {
        "colab": {
          "base_uri": "https://localhost:8080/"
        },
        "id": "6Laj90gCalum",
        "outputId": "f1a4f00d-1589-4e0b-8814-797b691443b3"
      },
      "execution_count": 20,
      "outputs": [
        {
          "output_type": "stream",
          "name": "stdout",
          "text": [
            "saisissez une phrasesamedi soir, je vais au cinéma», on renverra\n",
            "le premier mot est :  samedi\n"
          ]
        }
      ]
    },
    {
      "cell_type": "markdown",
      "source": [
        "Exercice 3:"
      ],
      "metadata": {
        "id": "sdzn7pG-c0Ed"
      }
    },
    {
      "cell_type": "code",
      "source": [
        "def majuscule_mot(chaine) :\n",
        "  return chaine.title()\n",
        "phrase =  input(\"saisissez une phrase\")\n",
        "print(majuscule_mot(phrase))"
      ],
      "metadata": {
        "colab": {
          "base_uri": "https://localhost:8080/"
        },
        "id": "663-n55ac2JV",
        "outputId": "96eeeaf8-bec8-458b-e990-60f538f7307d"
      },
      "execution_count": 21,
      "outputs": [
        {
          "output_type": "stream",
          "name": "stdout",
          "text": [
            "saisissez une phraseje suis ratiba\n",
            "Je Suis Ratiba\n"
          ]
        }
      ]
    },
    {
      "cell_type": "markdown",
      "source": [
        "Exercice 4:"
      ],
      "metadata": {
        "id": "SVGPD_Fed8we"
      }
    },
    {
      "cell_type": "code",
      "source": [
        "phrase = input (\"saisissez la phrase pour la retourner : \")\n",
        "phrase = ' '.join(phrase.split()[::-1] )\n",
        "print(phrase)"
      ],
      "metadata": {
        "colab": {
          "base_uri": "https://localhost:8080/"
        },
        "id": "fb6Vr48dd_EI",
        "outputId": "3f688b78-7741-420d-e6fe-d9e438263195"
      },
      "execution_count": 26,
      "outputs": [
        {
          "output_type": "stream",
          "name": "stdout",
          "text": [
            "saisissez la phrase pour la retourner : je suis ratiba\n",
            "ratiba suis je\n"
          ]
        }
      ]
    },
    {
      "cell_type": "markdown",
      "source": [
        "Exercice 5:\n"
      ],
      "metadata": {
        "id": "pe1zCH3-fWJH"
      }
    },
    {
      "cell_type": "code",
      "source": [
        "def image(mot):\n",
        "    resultat = \"\"\n",
        "    i = 0\n",
        "    while i < len(mot):\n",
        "        count = 1\n",
        "        while i + 1 < len(mot) and mot[i] == mot[i + 1]:\n",
        "            count += 1\n",
        "            i += 1\n",
        "        resultat += str(count) + mot[i]\n",
        "        i += 1\n",
        "    return resultat\n",
        "\n",
        "\n",
        "def suite():\n",
        "    u = \"1\"\n",
        "    print(f\"u0 = {u}\")\n",
        "    for n in range(1, 20):\n",
        "        u = image(u)\n",
        "        print(f\"u{n} = {u}\")\n",
        "\n",
        "\n",
        "suite()\n"
      ],
      "metadata": {
        "colab": {
          "base_uri": "https://localhost:8080/"
        },
        "id": "MiPeK5kzfYKM",
        "outputId": "36c1d000-81e9-48d1-8e4b-ccaa428870ad"
      },
      "execution_count": 1,
      "outputs": [
        {
          "output_type": "stream",
          "name": "stdout",
          "text": [
            "u0 = 1\n",
            "u1 = 11\n",
            "u2 = 21\n",
            "u3 = 1211\n",
            "u4 = 111221\n",
            "u5 = 312211\n",
            "u6 = 13112221\n",
            "u7 = 1113213211\n",
            "u8 = 31131211131221\n",
            "u9 = 13211311123113112211\n",
            "u10 = 11131221133112132113212221\n",
            "u11 = 3113112221232112111312211312113211\n",
            "u12 = 1321132132111213122112311311222113111221131221\n",
            "u13 = 11131221131211131231121113112221121321132132211331222113112211\n",
            "u14 = 311311222113111231131112132112311321322112111312211312111322212311322113212221\n",
            "u15 = 132113213221133112132113311211131221121321131211132221123113112221131112311332111213211322211312113211\n",
            "u16 = 11131221131211132221232112111312212321123113112221121113122113111231133221121321132132211331121321231231121113122113322113111221131221\n",
            "u17 = 31131122211311123113321112131221123113112211121312211213211321322112311311222113311213212322211211131221131211132221232112111312111213111213211231131122212322211331222113112211\n",
            "u18 = 1321132132211331121321231231121113112221121321132122311211131122211211131221131211132221121321132132212321121113121112133221123113112221131112311332111213122112311311123112111331121113122112132113213211121332212311322113212221\n",
            "u19 = 11131221131211132221232112111312111213111213211231132132211211131221131211221321123113213221123113112221131112311332211211131221131211132211121312211231131112311211232221121321132132211331121321231231121113112221121321133112132112312321123113112221121113122113121113123112112322111213211322211312113211\n"
          ]
        }
      ]
    }
  ]
}