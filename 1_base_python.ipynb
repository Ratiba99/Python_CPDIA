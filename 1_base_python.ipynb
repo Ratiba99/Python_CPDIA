{
  "nbformat": 4,
  "nbformat_minor": 0,
  "metadata": {
    "colab": {
      "provenance": []
    },
    "kernelspec": {
      "name": "python3",
      "display_name": "Python 3"
    },
    "language_info": {
      "name": "python"
    }
  },
  "cells": [
    {
      "cell_type": "markdown",
      "source": [],
      "metadata": {
        "id": "uQm9lOGhIY0g"
      }
    },
    {
      "cell_type": "markdown",
      "source": [
        "Exercice 1:"
      ],
      "metadata": {
        "id": "gaeEqtIGIamz"
      }
    },
    {
      "cell_type": "code",
      "source": [
        "print(\"Bonjour le monde\")"
      ],
      "metadata": {
        "colab": {
          "base_uri": "https://localhost:8080/"
        },
        "id": "8rbW3rTYIegM",
        "outputId": "3f7e2be5-7a41-404f-99fc-0aa8fb044870"
      },
      "execution_count": 2,
      "outputs": [
        {
          "output_type": "stream",
          "name": "stdout",
          "text": [
            "Bonjour le monde\n"
          ]
        }
      ]
    },
    {
      "cell_type": "markdown",
      "source": [
        "Exercice 2 :"
      ],
      "metadata": {
        "id": "gq2xwL57I-PJ"
      }
    },
    {
      "cell_type": "code",
      "source": [
        "a = int(input(\"Entrer votre année de naissance\"))\n",
        "print(\"votre age est : \", 2024-a)"
      ],
      "metadata": {
        "colab": {
          "base_uri": "https://localhost:8080/"
        },
        "id": "9aCRBVp1JCrl",
        "outputId": "81afbc3f-0138-4bdb-b474-ea06aaf0e518"
      },
      "execution_count": 6,
      "outputs": [
        {
          "output_type": "stream",
          "name": "stdout",
          "text": [
            "Entrer votre année de naissance1999\n",
            "votre age est :  25\n"
          ]
        }
      ]
    },
    {
      "cell_type": "markdown",
      "source": [
        "Exercice 3 :"
      ],
      "metadata": {
        "id": "MBOOukErMkqr"
      }
    },
    {
      "cell_type": "code",
      "source": [
        "a = int(input(\"veuillez saisir un nombre \"))\n",
        "if (a%2)==0 :\n",
        "  print(\"le nombre est pair\")\n",
        "if (a%2 != 0) :\n",
        "  print(\"le nombre \", a , \"est impair\")\n",
        "\n",
        "\n",
        ""
      ],
      "metadata": {
        "colab": {
          "base_uri": "https://localhost:8080/"
        },
        "id": "mB05SfL4MnPK",
        "outputId": "f5ae2061-96b0-4c64-b157-65ad157027ca"
      },
      "execution_count": 12,
      "outputs": [
        {
          "output_type": "stream",
          "name": "stdout",
          "text": [
            "veuillez introduire un nombre 0\n",
            "le nombre est pair\n"
          ]
        }
      ]
    },
    {
      "cell_type": "markdown",
      "source": [
        "Exercice 4 :"
      ],
      "metadata": {
        "id": "0hh4n19_O47_"
      }
    },
    {
      "cell_type": "code",
      "source": [
        "n= int( input(\"veuillez saisir un nombre\"))\n",
        "somme =0\n",
        "for i in range (1,n+1) :\n",
        "  somme=somme+i\n",
        "print(\"la somme est\", somme)\n"
      ],
      "metadata": {
        "colab": {
          "base_uri": "https://localhost:8080/"
        },
        "id": "Tz5SmCF7O7UM",
        "outputId": "36faee0e-9e86-4d85-bee3-2450e115d640"
      },
      "execution_count": 28,
      "outputs": [
        {
          "output_type": "stream",
          "name": "stdout",
          "text": [
            "veuillez saisir un nombre5\n",
            "la somme est 15\n"
          ]
        }
      ]
    },
    {
      "cell_type": "markdown",
      "source": [
        "Exercice 5 :"
      ],
      "metadata": {
        "id": "hjW-5GITSzVJ"
      }
    },
    {
      "cell_type": "code",
      "source": [
        "for i in range (1, 11) :\n",
        "  for j in range (0, 11):\n",
        "    print(i, \"x\",j,\"=\", i*j)\n",
        "  print(\"\\n\")"
      ],
      "metadata": {
        "colab": {
          "base_uri": "https://localhost:8080/"
        },
        "id": "cTIVNOKvS1tO",
        "outputId": "2670a75f-7158-4e94-9884-5bb36d0b19e1"
      },
      "execution_count": 31,
      "outputs": [
        {
          "output_type": "stream",
          "name": "stdout",
          "text": [
            "1 x 0 = 0\n",
            "1 x 1 = 1\n",
            "1 x 2 = 2\n",
            "1 x 3 = 3\n",
            "1 x 4 = 4\n",
            "1 x 5 = 5\n",
            "1 x 6 = 6\n",
            "1 x 7 = 7\n",
            "1 x 8 = 8\n",
            "1 x 9 = 9\n",
            "1 x 10 = 10\n",
            "\n",
            "\n",
            "2 x 0 = 0\n",
            "2 x 1 = 2\n",
            "2 x 2 = 4\n",
            "2 x 3 = 6\n",
            "2 x 4 = 8\n",
            "2 x 5 = 10\n",
            "2 x 6 = 12\n",
            "2 x 7 = 14\n",
            "2 x 8 = 16\n",
            "2 x 9 = 18\n",
            "2 x 10 = 20\n",
            "\n",
            "\n",
            "3 x 0 = 0\n",
            "3 x 1 = 3\n",
            "3 x 2 = 6\n",
            "3 x 3 = 9\n",
            "3 x 4 = 12\n",
            "3 x 5 = 15\n",
            "3 x 6 = 18\n",
            "3 x 7 = 21\n",
            "3 x 8 = 24\n",
            "3 x 9 = 27\n",
            "3 x 10 = 30\n",
            "\n",
            "\n",
            "4 x 0 = 0\n",
            "4 x 1 = 4\n",
            "4 x 2 = 8\n",
            "4 x 3 = 12\n",
            "4 x 4 = 16\n",
            "4 x 5 = 20\n",
            "4 x 6 = 24\n",
            "4 x 7 = 28\n",
            "4 x 8 = 32\n",
            "4 x 9 = 36\n",
            "4 x 10 = 40\n",
            "\n",
            "\n",
            "5 x 0 = 0\n",
            "5 x 1 = 5\n",
            "5 x 2 = 10\n",
            "5 x 3 = 15\n",
            "5 x 4 = 20\n",
            "5 x 5 = 25\n",
            "5 x 6 = 30\n",
            "5 x 7 = 35\n",
            "5 x 8 = 40\n",
            "5 x 9 = 45\n",
            "5 x 10 = 50\n",
            "\n",
            "\n",
            "6 x 0 = 0\n",
            "6 x 1 = 6\n",
            "6 x 2 = 12\n",
            "6 x 3 = 18\n",
            "6 x 4 = 24\n",
            "6 x 5 = 30\n",
            "6 x 6 = 36\n",
            "6 x 7 = 42\n",
            "6 x 8 = 48\n",
            "6 x 9 = 54\n",
            "6 x 10 = 60\n",
            "\n",
            "\n",
            "7 x 0 = 0\n",
            "7 x 1 = 7\n",
            "7 x 2 = 14\n",
            "7 x 3 = 21\n",
            "7 x 4 = 28\n",
            "7 x 5 = 35\n",
            "7 x 6 = 42\n",
            "7 x 7 = 49\n",
            "7 x 8 = 56\n",
            "7 x 9 = 63\n",
            "7 x 10 = 70\n",
            "\n",
            "\n",
            "8 x 0 = 0\n",
            "8 x 1 = 8\n",
            "8 x 2 = 16\n",
            "8 x 3 = 24\n",
            "8 x 4 = 32\n",
            "8 x 5 = 40\n",
            "8 x 6 = 48\n",
            "8 x 7 = 56\n",
            "8 x 8 = 64\n",
            "8 x 9 = 72\n",
            "8 x 10 = 80\n",
            "\n",
            "\n",
            "9 x 0 = 0\n",
            "9 x 1 = 9\n",
            "9 x 2 = 18\n",
            "9 x 3 = 27\n",
            "9 x 4 = 36\n",
            "9 x 5 = 45\n",
            "9 x 6 = 54\n",
            "9 x 7 = 63\n",
            "9 x 8 = 72\n",
            "9 x 9 = 81\n",
            "9 x 10 = 90\n",
            "\n",
            "\n",
            "10 x 0 = 0\n",
            "10 x 1 = 10\n",
            "10 x 2 = 20\n",
            "10 x 3 = 30\n",
            "10 x 4 = 40\n",
            "10 x 5 = 50\n",
            "10 x 6 = 60\n",
            "10 x 7 = 70\n",
            "10 x 8 = 80\n",
            "10 x 9 = 90\n",
            "10 x 10 = 100\n",
            "\n",
            "\n"
          ]
        }
      ]
    },
    {
      "cell_type": "markdown",
      "source": [
        "Exercice 6 :"
      ],
      "metadata": {
        "id": "Q-rESfIeUcTe"
      }
    },
    {
      "cell_type": "code",
      "source": [
        "nombres = []\n",
        "\n",
        "for i in range (5) :\n",
        "  nombre=float(input(f\"veuillez saisir le nombre {i+1} :\"))\n",
        "  nombres.append(nombre)\n",
        "print(\"les nombres sont :\" ,nombres)\n",
        "print(\"le plus grand nombre est : \", max(nombres))"
      ],
      "metadata": {
        "colab": {
          "base_uri": "https://localhost:8080/"
        },
        "id": "4HeMPbhNYG6b",
        "outputId": "349d826a-8cd8-43be-a2d3-161a18df5b0d"
      },
      "execution_count": 8,
      "outputs": [
        {
          "output_type": "stream",
          "name": "stdout",
          "text": [
            "veuillez saisir le nombre 1 :4\n",
            "veuillez saisir le nombre 2 :8\n",
            "veuillez saisir le nombre 3 :9.6\n",
            "veuillez saisir le nombre 4 :9\n",
            "veuillez saisir le nombre 5 :0.66\n",
            "les nombres sont : [4.0, 8.0, 9.6, 9.0, 0.66]\n",
            "le plus grand nombre est :  9.6\n"
          ]
        }
      ]
    },
    {
      "cell_type": "markdown",
      "source": [
        "Exercice 7 :"
      ],
      "metadata": {
        "id": "fkjgZK_IjPCb"
      }
    },
    {
      "cell_type": "code",
      "source": [
        "\n",
        "phrase = input(f\"saisissez la phrase :\")\n",
        "voyelles = \"aeuiyoAEUIYO\"\n",
        "compteur=0\n",
        "for caractere in phrase :\n",
        "  if caractere in voyelles :\n",
        "    compteur+=1\n",
        "print(f\"nombre de voyelles dans la phrase est : {compteur}\")\n"
      ],
      "metadata": {
        "colab": {
          "base_uri": "https://localhost:8080/"
        },
        "id": "rPtkQo4qjRr8",
        "outputId": "446ee095-0299-4824-a5d0-f239a28bb8a6"
      },
      "execution_count": 12,
      "outputs": [
        {
          "output_type": "stream",
          "name": "stdout",
          "text": [
            "saisissez la phrase :je suis ratiba\n",
            "nombre de voyelles dans la phrase est : 6\n"
          ]
        }
      ]
    },
    {
      "cell_type": "markdown",
      "source": [
        "Exercice 8 :"
      ],
      "metadata": {
        "id": "DcWoWcaUly3H"
      }
    },
    {
      "cell_type": "code",
      "source": [
        "chaine = input(f\"saisissez une chaine :\")\n",
        "chaine_inverse = chaine[::-1]\n",
        "print(\"la chaine inversée est :\",chaine_inverse)"
      ],
      "metadata": {
        "colab": {
          "base_uri": "https://localhost:8080/"
        },
        "id": "jp7NYmEQl1H3",
        "outputId": "58eb6762-d790-4f9e-d8ba-59f71cfc8914"
      },
      "execution_count": 16,
      "outputs": [
        {
          "output_type": "stream",
          "name": "stdout",
          "text": [
            "saisissez une chaine :bonjour\n",
            "la chaine inversée est : ruojnob\n"
          ]
        }
      ]
    },
    {
      "cell_type": "markdown",
      "source": [
        "Exercice 9 :"
      ],
      "metadata": {
        "id": "9ehFkQ81n_o2"
      }
    },
    {
      "cell_type": "code",
      "source": [
        "chaine = input(f\"saisissez une chaine :\")\n",
        "chaine_inverse = chaine[::-1]\n",
        "if chaine == chaine_inverse :\n",
        "  print(\"c'est un palindrome\")\n",
        "else :\n",
        "  print(\"ce n'est pas un palindrome\")"
      ],
      "metadata": {
        "colab": {
          "base_uri": "https://localhost:8080/"
        },
        "id": "EgqbaFL1oCuN",
        "outputId": "f3cea2aa-6fa7-48d6-ad72-54d586d6ff84"
      },
      "execution_count": 19,
      "outputs": [
        {
          "output_type": "stream",
          "name": "stdout",
          "text": [
            "saisissez une chaine :anna\n",
            "c'est un palindrome\n"
          ]
        }
      ]
    },
    {
      "cell_type": "markdown",
      "source": [
        "Exercice 10 :"
      ],
      "metadata": {
        "id": "EENy6iLzo2ke"
      }
    },
    {
      "cell_type": "code",
      "source": [
        "def factorielle (n):\n",
        "  if n == 0 or n==1 :\n",
        "    return 1\n",
        "  else :\n",
        "    return n*factorielle(n-1)\n",
        "nbr=int(input(\"saisissez un nombre : \"))\n",
        "resultat = factorielle(nbr)\n",
        "print(f\"la factorielle du nobre {nbr} est :\", resultat)"
      ],
      "metadata": {
        "colab": {
          "base_uri": "https://localhost:8080/"
        },
        "id": "sedI86Oko6GW",
        "outputId": "8f4c7aa1-65d8-4cb5-998f-f77153f14d22"
      },
      "execution_count": 23,
      "outputs": [
        {
          "output_type": "stream",
          "name": "stdout",
          "text": [
            "saisissez un nombre : 3\n",
            "la factorielle du nobre 3 est : 6\n"
          ]
        }
      ]
    }
  ]
}